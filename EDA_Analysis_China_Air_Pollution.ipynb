{
  "nbformat": 4,
  "nbformat_minor": 0,
  "metadata": {
    "colab": {
      "provenance": [],
      "include_colab_link": true
    },
    "kernelspec": {
      "name": "python3",
      "display_name": "Python 3"
    },
    "language_info": {
      "name": "python"
    }
  },
  "cells": [
    {
      "cell_type": "markdown",
      "metadata": {
        "id": "view-in-github",
        "colab_type": "text"
      },
      "source": [
        "<a href=\"https://colab.research.google.com/github/vanajathiruchselvam/CMP7005_China_Air_Pollution_EDA/blob/main/EDA_Analysis_China_Air_Pollution.ipynb\" target=\"_parent\"><img src=\"https://colab.research.google.com/assets/colab-badge.svg\" alt=\"Open In Colab\"/></a>"
      ]
    },
    {
      "cell_type": "markdown",
      "source": [
        "### **Mounting the google drive to the colab environment:**"
      ],
      "metadata": {
        "id": "swmzfS3bbvzE"
      }
    },
    {
      "cell_type": "code",
      "source": [
        "import numpy as np\n",
        "import matplotlib.pyplot as plt\n",
        "import pandas as pd\n",
        "import numpy as np\n",
        "import seaborn as sns\n",
        "from sklearn import preprocessing\n",
        "import warnings\n",
        "warnings.filterwarnings('ignore')\n",
        "%matplotlib inline\n",
        "import missingno as msno"
      ],
      "metadata": {
        "id": "SyFWg_CZH_nN"
      },
      "execution_count": 11,
      "outputs": []
    },
    {
      "cell_type": "code",
      "source": [
        "from google.colab import drive\n",
        "drive.mount('/content/drive')"
      ],
      "metadata": {
        "colab": {
          "base_uri": "https://localhost:8080/"
        },
        "id": "9ekzRnwM31ZA",
        "outputId": "867eefab-c7ae-46e0-bb8c-8f2c5f534a62"
      },
      "execution_count": 12,
      "outputs": [
        {
          "output_type": "stream",
          "name": "stdout",
          "text": [
            "Drive already mounted at /content/drive; to attempt to forcibly remount, call drive.mount(\"/content/drive\", force_remount=True).\n"
          ]
        }
      ]
    },
    {
      "cell_type": "code",
      "source": [],
      "metadata": {
        "id": "EU7sxd92H-jf"
      },
      "execution_count": 12,
      "outputs": []
    },
    {
      "cell_type": "code",
      "source": [
        "%cd '/content/drive/MyDrive/Programming for Data Analysis/Practical_Assignment_Final/Assessment_data'"
      ],
      "metadata": {
        "colab": {
          "base_uri": "https://localhost:8080/"
        },
        "id": "4r91f2MP33ag",
        "outputId": "859be982-a143-4e24-d9ae-14c65c135274"
      },
      "execution_count": 13,
      "outputs": [
        {
          "output_type": "stream",
          "name": "stdout",
          "text": [
            "/content/drive/MyDrive/Programming for Data Analysis/Practical_Assignment_Final/Assessment_data\n"
          ]
        }
      ]
    },
    {
      "cell_type": "code",
      "source": [
        "%ls"
      ],
      "metadata": {
        "colab": {
          "base_uri": "https://localhost:8080/"
        },
        "id": "d6-j0IMV5Zqh",
        "outputId": "dd7bc19f-ec5e-4a86-fd27-a825d99d35b8"
      },
      "execution_count": 14,
      "outputs": [
        {
          "output_type": "stream",
          "name": "stdout",
          "text": [
            "combined_dataset_china_air_pollution.csv\n",
            "PRSA_Data_Dingling_20130301-20170228.csv\n",
            "PRSA_Data_Guanyuan_20130301-20170228.csv\n",
            "PRSA_Data_Nongzhanguan_20130301-20170228.csv\n",
            "PRSA_Data_Shunyi_20130301-20170228.csv\n"
          ]
        }
      ]
    },
    {
      "cell_type": "code",
      "execution_count": 15,
      "metadata": {
        "colab": {
          "base_uri": "https://localhost:8080/"
        },
        "id": "np6Ny_IuFCbq",
        "outputId": "9d37d425-ccf4-434d-9efc-bb145fdcdba2"
      },
      "outputs": [
        {
          "output_type": "stream",
          "name": "stdout",
          "text": [
            "All CSV files have been merged into 'combined_dataset_china_air_pollution.csv'.\n"
          ]
        }
      ],
      "source": [
        "import pandas as pd\n",
        "import glob\n",
        "\n",
        "# Get all CSV files in the folder\n",
        "csv_files = glob.glob(\"/content/drive/MyDrive/Programming for Data Analysis/Practical_Assignment_Final/Assessment_data/*.csv\")\n",
        "\n",
        "# Read and combine all CSV files\n",
        "combined_df = pd.concat([pd.read_csv(file) for file in csv_files], ignore_index=True)\n",
        "\n",
        "# Save to a new CSV file\n",
        "combined_df.to_csv(\"combined_dataset_china_air_pollution.csv\", index=False)\n",
        "\n",
        "print(\"All CSV files have been merged into 'combined_dataset_china_air_pollution.csv'.\")\n"
      ]
    },
    {
      "cell_type": "code",
      "source": [
        "import pandas as pd\n",
        "\n",
        "# Load the CSV file into a pandas DataFrame\n",
        "df = pd.read_csv(\"combined_dataset_china_air_pollution.csv\")\n",
        "df.head()"
      ],
      "metadata": {
        "colab": {
          "base_uri": "https://localhost:8080/",
          "height": 206
        },
        "id": "DYzpxgzzGW9h",
        "outputId": "10c07e7c-fb21-46d2-9303-419c92fdce9b"
      },
      "execution_count": 16,
      "outputs": [
        {
          "output_type": "execute_result",
          "data": {
            "text/plain": [
              "   No  year  month  day  hour  PM2.5  PM10  SO2  NO2     CO    O3  TEMP  \\\n",
              "0   1  2013      3    1     0    3.0   6.0  3.0  8.0  300.0  44.0  -0.9   \n",
              "1   2  2013      3    1     1   12.0  12.0  3.0  7.0  300.0  47.0  -1.1   \n",
              "2   3  2013      3    1     2   14.0  14.0  NaN  7.0  200.0  22.0  -1.7   \n",
              "3   4  2013      3    1     3   12.0  12.0  3.0  5.0    NaN   NaN  -2.1   \n",
              "4   5  2013      3    1     4   12.0  12.0  3.0  NaN  200.0  11.0  -2.4   \n",
              "\n",
              "     PRES  DEWP  RAIN  wd  WSPM station  \n",
              "0  1025.8 -20.5   0.0  NW   9.3  Shunyi  \n",
              "1  1026.1 -21.3   0.0  NW   9.4  Shunyi  \n",
              "2  1026.2 -23.0   0.0  NW   8.6  Shunyi  \n",
              "3  1027.3 -23.3   0.0  NW   6.6  Shunyi  \n",
              "4  1027.7 -22.9   0.0  NW   4.5  Shunyi  "
            ],
            "text/html": [
              "\n",
              "  <div id=\"df-11660a25-1ff8-4038-840e-a4c9f60e5029\" class=\"colab-df-container\">\n",
              "    <div>\n",
              "<style scoped>\n",
              "    .dataframe tbody tr th:only-of-type {\n",
              "        vertical-align: middle;\n",
              "    }\n",
              "\n",
              "    .dataframe tbody tr th {\n",
              "        vertical-align: top;\n",
              "    }\n",
              "\n",
              "    .dataframe thead th {\n",
              "        text-align: right;\n",
              "    }\n",
              "</style>\n",
              "<table border=\"1\" class=\"dataframe\">\n",
              "  <thead>\n",
              "    <tr style=\"text-align: right;\">\n",
              "      <th></th>\n",
              "      <th>No</th>\n",
              "      <th>year</th>\n",
              "      <th>month</th>\n",
              "      <th>day</th>\n",
              "      <th>hour</th>\n",
              "      <th>PM2.5</th>\n",
              "      <th>PM10</th>\n",
              "      <th>SO2</th>\n",
              "      <th>NO2</th>\n",
              "      <th>CO</th>\n",
              "      <th>O3</th>\n",
              "      <th>TEMP</th>\n",
              "      <th>PRES</th>\n",
              "      <th>DEWP</th>\n",
              "      <th>RAIN</th>\n",
              "      <th>wd</th>\n",
              "      <th>WSPM</th>\n",
              "      <th>station</th>\n",
              "    </tr>\n",
              "  </thead>\n",
              "  <tbody>\n",
              "    <tr>\n",
              "      <th>0</th>\n",
              "      <td>1</td>\n",
              "      <td>2013</td>\n",
              "      <td>3</td>\n",
              "      <td>1</td>\n",
              "      <td>0</td>\n",
              "      <td>3.0</td>\n",
              "      <td>6.0</td>\n",
              "      <td>3.0</td>\n",
              "      <td>8.0</td>\n",
              "      <td>300.0</td>\n",
              "      <td>44.0</td>\n",
              "      <td>-0.9</td>\n",
              "      <td>1025.8</td>\n",
              "      <td>-20.5</td>\n",
              "      <td>0.0</td>\n",
              "      <td>NW</td>\n",
              "      <td>9.3</td>\n",
              "      <td>Shunyi</td>\n",
              "    </tr>\n",
              "    <tr>\n",
              "      <th>1</th>\n",
              "      <td>2</td>\n",
              "      <td>2013</td>\n",
              "      <td>3</td>\n",
              "      <td>1</td>\n",
              "      <td>1</td>\n",
              "      <td>12.0</td>\n",
              "      <td>12.0</td>\n",
              "      <td>3.0</td>\n",
              "      <td>7.0</td>\n",
              "      <td>300.0</td>\n",
              "      <td>47.0</td>\n",
              "      <td>-1.1</td>\n",
              "      <td>1026.1</td>\n",
              "      <td>-21.3</td>\n",
              "      <td>0.0</td>\n",
              "      <td>NW</td>\n",
              "      <td>9.4</td>\n",
              "      <td>Shunyi</td>\n",
              "    </tr>\n",
              "    <tr>\n",
              "      <th>2</th>\n",
              "      <td>3</td>\n",
              "      <td>2013</td>\n",
              "      <td>3</td>\n",
              "      <td>1</td>\n",
              "      <td>2</td>\n",
              "      <td>14.0</td>\n",
              "      <td>14.0</td>\n",
              "      <td>NaN</td>\n",
              "      <td>7.0</td>\n",
              "      <td>200.0</td>\n",
              "      <td>22.0</td>\n",
              "      <td>-1.7</td>\n",
              "      <td>1026.2</td>\n",
              "      <td>-23.0</td>\n",
              "      <td>0.0</td>\n",
              "      <td>NW</td>\n",
              "      <td>8.6</td>\n",
              "      <td>Shunyi</td>\n",
              "    </tr>\n",
              "    <tr>\n",
              "      <th>3</th>\n",
              "      <td>4</td>\n",
              "      <td>2013</td>\n",
              "      <td>3</td>\n",
              "      <td>1</td>\n",
              "      <td>3</td>\n",
              "      <td>12.0</td>\n",
              "      <td>12.0</td>\n",
              "      <td>3.0</td>\n",
              "      <td>5.0</td>\n",
              "      <td>NaN</td>\n",
              "      <td>NaN</td>\n",
              "      <td>-2.1</td>\n",
              "      <td>1027.3</td>\n",
              "      <td>-23.3</td>\n",
              "      <td>0.0</td>\n",
              "      <td>NW</td>\n",
              "      <td>6.6</td>\n",
              "      <td>Shunyi</td>\n",
              "    </tr>\n",
              "    <tr>\n",
              "      <th>4</th>\n",
              "      <td>5</td>\n",
              "      <td>2013</td>\n",
              "      <td>3</td>\n",
              "      <td>1</td>\n",
              "      <td>4</td>\n",
              "      <td>12.0</td>\n",
              "      <td>12.0</td>\n",
              "      <td>3.0</td>\n",
              "      <td>NaN</td>\n",
              "      <td>200.0</td>\n",
              "      <td>11.0</td>\n",
              "      <td>-2.4</td>\n",
              "      <td>1027.7</td>\n",
              "      <td>-22.9</td>\n",
              "      <td>0.0</td>\n",
              "      <td>NW</td>\n",
              "      <td>4.5</td>\n",
              "      <td>Shunyi</td>\n",
              "    </tr>\n",
              "  </tbody>\n",
              "</table>\n",
              "</div>\n",
              "    <div class=\"colab-df-buttons\">\n",
              "\n",
              "  <div class=\"colab-df-container\">\n",
              "    <button class=\"colab-df-convert\" onclick=\"convertToInteractive('df-11660a25-1ff8-4038-840e-a4c9f60e5029')\"\n",
              "            title=\"Convert this dataframe to an interactive table.\"\n",
              "            style=\"display:none;\">\n",
              "\n",
              "  <svg xmlns=\"http://www.w3.org/2000/svg\" height=\"24px\" viewBox=\"0 -960 960 960\">\n",
              "    <path d=\"M120-120v-720h720v720H120Zm60-500h600v-160H180v160Zm220 220h160v-160H400v160Zm0 220h160v-160H400v160ZM180-400h160v-160H180v160Zm440 0h160v-160H620v160ZM180-180h160v-160H180v160Zm440 0h160v-160H620v160Z\"/>\n",
              "  </svg>\n",
              "    </button>\n",
              "\n",
              "  <style>\n",
              "    .colab-df-container {\n",
              "      display:flex;\n",
              "      gap: 12px;\n",
              "    }\n",
              "\n",
              "    .colab-df-convert {\n",
              "      background-color: #E8F0FE;\n",
              "      border: none;\n",
              "      border-radius: 50%;\n",
              "      cursor: pointer;\n",
              "      display: none;\n",
              "      fill: #1967D2;\n",
              "      height: 32px;\n",
              "      padding: 0 0 0 0;\n",
              "      width: 32px;\n",
              "    }\n",
              "\n",
              "    .colab-df-convert:hover {\n",
              "      background-color: #E2EBFA;\n",
              "      box-shadow: 0px 1px 2px rgba(60, 64, 67, 0.3), 0px 1px 3px 1px rgba(60, 64, 67, 0.15);\n",
              "      fill: #174EA6;\n",
              "    }\n",
              "\n",
              "    .colab-df-buttons div {\n",
              "      margin-bottom: 4px;\n",
              "    }\n",
              "\n",
              "    [theme=dark] .colab-df-convert {\n",
              "      background-color: #3B4455;\n",
              "      fill: #D2E3FC;\n",
              "    }\n",
              "\n",
              "    [theme=dark] .colab-df-convert:hover {\n",
              "      background-color: #434B5C;\n",
              "      box-shadow: 0px 1px 3px 1px rgba(0, 0, 0, 0.15);\n",
              "      filter: drop-shadow(0px 1px 2px rgba(0, 0, 0, 0.3));\n",
              "      fill: #FFFFFF;\n",
              "    }\n",
              "  </style>\n",
              "\n",
              "    <script>\n",
              "      const buttonEl =\n",
              "        document.querySelector('#df-11660a25-1ff8-4038-840e-a4c9f60e5029 button.colab-df-convert');\n",
              "      buttonEl.style.display =\n",
              "        google.colab.kernel.accessAllowed ? 'block' : 'none';\n",
              "\n",
              "      async function convertToInteractive(key) {\n",
              "        const element = document.querySelector('#df-11660a25-1ff8-4038-840e-a4c9f60e5029');\n",
              "        const dataTable =\n",
              "          await google.colab.kernel.invokeFunction('convertToInteractive',\n",
              "                                                    [key], {});\n",
              "        if (!dataTable) return;\n",
              "\n",
              "        const docLinkHtml = 'Like what you see? Visit the ' +\n",
              "          '<a target=\"_blank\" href=https://colab.research.google.com/notebooks/data_table.ipynb>data table notebook</a>'\n",
              "          + ' to learn more about interactive tables.';\n",
              "        element.innerHTML = '';\n",
              "        dataTable['output_type'] = 'display_data';\n",
              "        await google.colab.output.renderOutput(dataTable, element);\n",
              "        const docLink = document.createElement('div');\n",
              "        docLink.innerHTML = docLinkHtml;\n",
              "        element.appendChild(docLink);\n",
              "      }\n",
              "    </script>\n",
              "  </div>\n",
              "\n",
              "\n",
              "    <div id=\"df-60cb7ef8-9a48-4515-a4a6-1c091a4c90d7\">\n",
              "      <button class=\"colab-df-quickchart\" onclick=\"quickchart('df-60cb7ef8-9a48-4515-a4a6-1c091a4c90d7')\"\n",
              "                title=\"Suggest charts\"\n",
              "                style=\"display:none;\">\n",
              "\n",
              "<svg xmlns=\"http://www.w3.org/2000/svg\" height=\"24px\"viewBox=\"0 0 24 24\"\n",
              "     width=\"24px\">\n",
              "    <g>\n",
              "        <path d=\"M19 3H5c-1.1 0-2 .9-2 2v14c0 1.1.9 2 2 2h14c1.1 0 2-.9 2-2V5c0-1.1-.9-2-2-2zM9 17H7v-7h2v7zm4 0h-2V7h2v10zm4 0h-2v-4h2v4z\"/>\n",
              "    </g>\n",
              "</svg>\n",
              "      </button>\n",
              "\n",
              "<style>\n",
              "  .colab-df-quickchart {\n",
              "      --bg-color: #E8F0FE;\n",
              "      --fill-color: #1967D2;\n",
              "      --hover-bg-color: #E2EBFA;\n",
              "      --hover-fill-color: #174EA6;\n",
              "      --disabled-fill-color: #AAA;\n",
              "      --disabled-bg-color: #DDD;\n",
              "  }\n",
              "\n",
              "  [theme=dark] .colab-df-quickchart {\n",
              "      --bg-color: #3B4455;\n",
              "      --fill-color: #D2E3FC;\n",
              "      --hover-bg-color: #434B5C;\n",
              "      --hover-fill-color: #FFFFFF;\n",
              "      --disabled-bg-color: #3B4455;\n",
              "      --disabled-fill-color: #666;\n",
              "  }\n",
              "\n",
              "  .colab-df-quickchart {\n",
              "    background-color: var(--bg-color);\n",
              "    border: none;\n",
              "    border-radius: 50%;\n",
              "    cursor: pointer;\n",
              "    display: none;\n",
              "    fill: var(--fill-color);\n",
              "    height: 32px;\n",
              "    padding: 0;\n",
              "    width: 32px;\n",
              "  }\n",
              "\n",
              "  .colab-df-quickchart:hover {\n",
              "    background-color: var(--hover-bg-color);\n",
              "    box-shadow: 0 1px 2px rgba(60, 64, 67, 0.3), 0 1px 3px 1px rgba(60, 64, 67, 0.15);\n",
              "    fill: var(--button-hover-fill-color);\n",
              "  }\n",
              "\n",
              "  .colab-df-quickchart-complete:disabled,\n",
              "  .colab-df-quickchart-complete:disabled:hover {\n",
              "    background-color: var(--disabled-bg-color);\n",
              "    fill: var(--disabled-fill-color);\n",
              "    box-shadow: none;\n",
              "  }\n",
              "\n",
              "  .colab-df-spinner {\n",
              "    border: 2px solid var(--fill-color);\n",
              "    border-color: transparent;\n",
              "    border-bottom-color: var(--fill-color);\n",
              "    animation:\n",
              "      spin 1s steps(1) infinite;\n",
              "  }\n",
              "\n",
              "  @keyframes spin {\n",
              "    0% {\n",
              "      border-color: transparent;\n",
              "      border-bottom-color: var(--fill-color);\n",
              "      border-left-color: var(--fill-color);\n",
              "    }\n",
              "    20% {\n",
              "      border-color: transparent;\n",
              "      border-left-color: var(--fill-color);\n",
              "      border-top-color: var(--fill-color);\n",
              "    }\n",
              "    30% {\n",
              "      border-color: transparent;\n",
              "      border-left-color: var(--fill-color);\n",
              "      border-top-color: var(--fill-color);\n",
              "      border-right-color: var(--fill-color);\n",
              "    }\n",
              "    40% {\n",
              "      border-color: transparent;\n",
              "      border-right-color: var(--fill-color);\n",
              "      border-top-color: var(--fill-color);\n",
              "    }\n",
              "    60% {\n",
              "      border-color: transparent;\n",
              "      border-right-color: var(--fill-color);\n",
              "    }\n",
              "    80% {\n",
              "      border-color: transparent;\n",
              "      border-right-color: var(--fill-color);\n",
              "      border-bottom-color: var(--fill-color);\n",
              "    }\n",
              "    90% {\n",
              "      border-color: transparent;\n",
              "      border-bottom-color: var(--fill-color);\n",
              "    }\n",
              "  }\n",
              "</style>\n",
              "\n",
              "      <script>\n",
              "        async function quickchart(key) {\n",
              "          const quickchartButtonEl =\n",
              "            document.querySelector('#' + key + ' button');\n",
              "          quickchartButtonEl.disabled = true;  // To prevent multiple clicks.\n",
              "          quickchartButtonEl.classList.add('colab-df-spinner');\n",
              "          try {\n",
              "            const charts = await google.colab.kernel.invokeFunction(\n",
              "                'suggestCharts', [key], {});\n",
              "          } catch (error) {\n",
              "            console.error('Error during call to suggestCharts:', error);\n",
              "          }\n",
              "          quickchartButtonEl.classList.remove('colab-df-spinner');\n",
              "          quickchartButtonEl.classList.add('colab-df-quickchart-complete');\n",
              "        }\n",
              "        (() => {\n",
              "          let quickchartButtonEl =\n",
              "            document.querySelector('#df-60cb7ef8-9a48-4515-a4a6-1c091a4c90d7 button');\n",
              "          quickchartButtonEl.style.display =\n",
              "            google.colab.kernel.accessAllowed ? 'block' : 'none';\n",
              "        })();\n",
              "      </script>\n",
              "    </div>\n",
              "\n",
              "    </div>\n",
              "  </div>\n"
            ],
            "application/vnd.google.colaboratory.intrinsic+json": {
              "type": "dataframe",
              "variable_name": "df"
            }
          },
          "metadata": {},
          "execution_count": 16
        }
      ]
    },
    {
      "cell_type": "code",
      "source": [
        "df.shape"
      ],
      "metadata": {
        "colab": {
          "base_uri": "https://localhost:8080/"
        },
        "id": "y4-tBxvGUPoH",
        "outputId": "21a8dff2-1839-4739-b143-926cd00da3f7"
      },
      "execution_count": 17,
      "outputs": [
        {
          "output_type": "execute_result",
          "data": {
            "text/plain": [
              "(561024, 18)"
            ]
          },
          "metadata": {},
          "execution_count": 17
        }
      ]
    },
    {
      "cell_type": "code",
      "source": [
        "#shows columns in list formatting\n",
        "df.columns"
      ],
      "metadata": {
        "colab": {
          "base_uri": "https://localhost:8080/"
        },
        "id": "vrD2HKU7Ub8H",
        "outputId": "e678895b-070f-4299-b2fa-add16d3c14c9"
      },
      "execution_count": 18,
      "outputs": [
        {
          "output_type": "execute_result",
          "data": {
            "text/plain": [
              "Index(['No', 'year', 'month', 'day', 'hour', 'PM2.5', 'PM10', 'SO2', 'NO2',\n",
              "       'CO', 'O3', 'TEMP', 'PRES', 'DEWP', 'RAIN', 'wd', 'WSPM', 'station'],\n",
              "      dtype='object')"
            ]
          },
          "metadata": {},
          "execution_count": 18
        }
      ]
    },
    {
      "cell_type": "code",
      "source": [
        "df.info()"
      ],
      "metadata": {
        "colab": {
          "base_uri": "https://localhost:8080/"
        },
        "id": "AkpaFRueUjze",
        "outputId": "2b82325e-e764-45d7-d912-3121796102d7"
      },
      "execution_count": 19,
      "outputs": [
        {
          "output_type": "stream",
          "name": "stdout",
          "text": [
            "<class 'pandas.core.frame.DataFrame'>\n",
            "RangeIndex: 561024 entries, 0 to 561023\n",
            "Data columns (total 18 columns):\n",
            " #   Column   Non-Null Count   Dtype  \n",
            "---  ------   --------------   -----  \n",
            " 0   No       561024 non-null  int64  \n",
            " 1   year     561024 non-null  int64  \n",
            " 2   month    561024 non-null  int64  \n",
            " 3   day      561024 non-null  int64  \n",
            " 4   hour     561024 non-null  int64  \n",
            " 5   PM2.5    549280 non-null  float64\n",
            " 6   PM10     552732 non-null  float64\n",
            " 7   SO2      549240 non-null  float64\n",
            " 8   NO2      545224 non-null  float64\n",
            " 9   CO       532428 non-null  float64\n",
            " 10  O3       543496 non-null  float64\n",
            " 11  TEMP     560448 non-null  float64\n",
            " 12  PRES     560460 non-null  float64\n",
            " 13  DEWP     560436 non-null  float64\n",
            " 14  RAIN     560456 non-null  float64\n",
            " 15  wd       557896 non-null  object \n",
            " 16  WSPM     560564 non-null  float64\n",
            " 17  station  561024 non-null  object \n",
            "dtypes: float64(11), int64(5), object(2)\n",
            "memory usage: 77.0+ MB\n"
          ]
        }
      ]
    },
    {
      "cell_type": "code",
      "source": [
        "import missingno as msno\n",
        "msno.matrix(df)\n",
        "plt.title('Missing Values Overview')\n",
        "plt.show()"
      ],
      "metadata": {
        "colab": {
          "base_uri": "https://localhost:8080/",
          "height": 599
        },
        "id": "dGm1jLvhCS83",
        "outputId": "393f5c32-a742-47a2-a091-d1f95c3c6f1c"
      },
      "execution_count": 20,
      "outputs": [
        {
          "output_type": "display_data",
          "data": {
            "text/plain": [
              "<Figure size 2500x1000 with 2 Axes>"
            ],
            "image/png": "[encoded data removed]"
          },
          "metadata": {}
        }
      ]
    },
    {
      "cell_type": "code",
      "source": [
        "print(df['station'].value_counts())\n"
      ],
      "metadata": {
        "colab": {
          "base_uri": "https://localhost:8080/"
        },
        "id": "U9A8EYMZC5Ok",
        "outputId": "1216a2ab-4683-4113-cb07-c69dc4f9c8e2"
      },
      "execution_count": 21,
      "outputs": [
        {
          "output_type": "stream",
          "name": "stdout",
          "text": [
            "station\n",
            "Shunyi          140256\n",
            "Nongzhanguan    140256\n",
            "Guanyuan        140256\n",
            "Dingling        140256\n",
            "Name: count, dtype: int64\n"
          ]
        }
      ]
    },
    {
      "cell_type": "code",
      "source": [
        "# Fill missing PM2.5 with median for now\n",
        "df['PM2.5'].fillna(df['PM2.5'].median(), inplace=True)"
      ],
      "metadata": {
        "id": "jIZaFTB1DEbx"
      },
      "execution_count": 22,
      "outputs": []
    },
    {
      "cell_type": "code",
      "source": [
        "df['datetime'] = pd.to_datetime(df[['year', 'month', 'day', 'hour']])\n",
        "df.set_index('datetime', inplace=True)\n"
      ],
      "metadata": {
        "id": "KOtWWtkrDJQn"
      },
      "execution_count": 23,
      "outputs": []
    },
    {
      "cell_type": "code",
      "source": [
        "df['datetime'] = pd.to_datetime(df[['year', 'month', 'day', 'hour']])\n",
        "df.set_index('datetime', inplace=True)\n"
      ],
      "metadata": {
        "id": "M0OvVarvDM_b"
      },
      "execution_count": 24,
      "outputs": []
    },
    {
      "cell_type": "code",
      "source": [
        "print(df.index)"
      ],
      "metadata": {
        "colab": {
          "base_uri": "https://localhost:8080/"
        },
        "id": "WeXfbfyEFDUl",
        "outputId": "625fdfb7-78d1-4b29-94da-ac9c7dc1673f"
      },
      "execution_count": 25,
      "outputs": [
        {
          "output_type": "stream",
          "name": "stdout",
          "text": [
            "DatetimeIndex(['2013-03-01 00:00:00', '2013-03-01 01:00:00',\n",
            "               '2013-03-01 02:00:00', '2013-03-01 03:00:00',\n",
            "               '2013-03-01 04:00:00', '2013-03-01 05:00:00',\n",
            "               '2013-03-01 06:00:00', '2013-03-01 07:00:00',\n",
            "               '2013-03-01 08:00:00', '2013-03-01 09:00:00',\n",
            "               ...\n",
            "               '2017-02-28 14:00:00', '2017-02-28 15:00:00',\n",
            "               '2017-02-28 16:00:00', '2017-02-28 17:00:00',\n",
            "               '2017-02-28 18:00:00', '2017-02-28 19:00:00',\n",
            "               '2017-02-28 20:00:00', '2017-02-28 21:00:00',\n",
            "               '2017-02-28 22:00:00', '2017-02-28 23:00:00'],\n",
            "              dtype='datetime64[ns]', name='datetime', length=561024, freq=None)\n"
          ]
        }
      ]
    },
    {
      "cell_type": "code",
      "source": [
        "print(df.isnull().sum())  # Total missing values per column"
      ],
      "metadata": {
        "colab": {
          "base_uri": "https://localhost:8080/"
        },
        "id": "oxjkVxWnFHpE",
        "outputId": "fe86ef8e-1ac8-4df5-9f85-8a659729bc03"
      },
      "execution_count": 26,
      "outputs": [
        {
          "output_type": "stream",
          "name": "stdout",
          "text": [
            "No             0\n",
            "year           0\n",
            "month          0\n",
            "day            0\n",
            "hour           0\n",
            "PM2.5          0\n",
            "PM10        8292\n",
            "SO2        11784\n",
            "NO2        15800\n",
            "CO         28596\n",
            "O3         17528\n",
            "TEMP         576\n",
            "PRES         564\n",
            "DEWP         588\n",
            "RAIN         568\n",
            "wd          3128\n",
            "WSPM         460\n",
            "station        0\n",
            "dtype: int64\n"
          ]
        }
      ]
    }
  ]
}