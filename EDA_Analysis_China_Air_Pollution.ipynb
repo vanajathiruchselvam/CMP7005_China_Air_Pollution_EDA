{
  "nbformat": 4,
  "nbformat_minor": 0,
  "metadata": {
    "colab": {
      "provenance": [],
      "include_colab_link": true
    },
    "kernelspec": {
      "name": "python3",
      "display_name": "Python 3"
    },
    "language_info": {
      "name": "python"
    }
  },
  "cells": [
    {
      "cell_type": "markdown",
      "metadata": {
        "id": "view-in-github",
        "colab_type": "text"
      },
      "source": [
        "<a href=\"https://colab.research.google.com/github/vanajathiruchselvam/CMP7005_China_Air_Pollution_EDA/blob/main/EDA_Analysis_China_Air_Pollution.ipynb\" target=\"_parent\"><img src=\"https://colab.research.google.com/assets/colab-badge.svg\" alt=\"Open In Colab\"/></a>"
      ]
    },
    {
      "cell_type": "markdown",
      "source": [
        "### **Mounting the google drive to the colab environment:**"
      ],
      "metadata": {
        "id": "swmzfS3bbvzE"
      }
    },
    {
      "cell_type": "code",
      "source": [
        "import numpy as np\n",
        "import matplotlib.pyplot as plt\n",
        "import pandas as pd\n",
        "import numpy as np\n",
        "import seaborn as sns\n",
        "from sklearn import preprocessing\n",
        "import warnings\n",
        "warnings.filterwarnings('ignore')\n",
        "%matplotlib inline\n",
        "import missingno as msno"
      ],
      "metadata": {
        "id": "SyFWg_CZH_nN"
      },
      "execution_count": 1,
      "outputs": []
    },
    {
      "cell_type": "code",
      "source": [
        "from google.colab import drive\n",
        "drive.mount('/content/drive')"
      ],
      "metadata": {
        "colab": {
          "base_uri": "https://localhost:8080/"
        },
        "id": "9ekzRnwM31ZA",
        "outputId": "6032d673-b122-4114-c3ab-3c356bba56d5"
      },
      "execution_count": 2,
      "outputs": [
        {
          "output_type": "stream",
          "name": "stdout",
          "text": [
            "Mounted at /content/drive\n"
          ]
        }
      ]
    },
    {
      "cell_type": "code",
      "source": [],
      "metadata": {
        "id": "EU7sxd92H-jf"
      },
      "execution_count": 2,
      "outputs": []
    },
    {
      "cell_type": "code",
      "source": [
        "%cd '/content/drive/MyDrive/Programming for Data Analysis/Practical_Assignment_Final/Assessment_data'"
      ],
      "metadata": {
        "colab": {
          "base_uri": "https://localhost:8080/"
        },
        "id": "4r91f2MP33ag",
        "outputId": "beda1040-2236-4967-904e-2089d6cc44c3"
      },
      "execution_count": 3,
      "outputs": [
        {
          "output_type": "stream",
          "name": "stdout",
          "text": [
            "/content/drive/MyDrive/Programming for Data Analysis/Practical_Assignment_Final/Assessment_data\n"
          ]
        }
      ]
    },
    {
      "cell_type": "code",
      "source": [
        "%ls"
      ],
      "metadata": {
        "colab": {
          "base_uri": "https://localhost:8080/"
        },
        "id": "d6-j0IMV5Zqh",
        "outputId": "74af22f1-48be-4544-8dbb-b6449e01eaad"
      },
      "execution_count": 4,
      "outputs": [
        {
          "output_type": "stream",
          "name": "stdout",
          "text": [
            "combined_dataset_china_air_pollution.csv\n",
            "PRSA_Data_Dingling_20130301-20170228.csv\n",
            "PRSA_Data_Guanyuan_20130301-20170228.csv\n",
            "PRSA_Data_Nongzhanguan_20130301-20170228.csv\n",
            "PRSA_Data_Shunyi_20130301-20170228.csv\n"
          ]
        }
      ]
    },
    {
      "cell_type": "code",
      "execution_count": 5,
      "metadata": {
        "colab": {
          "base_uri": "https://localhost:8080/"
        },
        "id": "np6Ny_IuFCbq",
        "outputId": "821597b7-f11f-4c49-eecb-90055c157388"
      },
      "outputs": [
        {
          "output_type": "stream",
          "name": "stdout",
          "text": [
            "All CSV files have been merged into 'combined_dataset_china_air_pollution.csv'.\n"
          ]
        }
      ],
      "source": [
        "import pandas as pd\n",
        "import glob\n",
        "\n",
        "# Get all CSV files in the folder\n",
        "csv_files = glob.glob(\"/content/drive/MyDrive/Programming for Data Analysis/Practical_Assignment_Final/Assessment_data/*.csv\")\n",
        "\n",
        "# Read and combine all CSV files\n",
        "combined_df = pd.concat([pd.read_csv(file) for file in csv_files], ignore_index=True)\n",
        "\n",
        "# Save to a new CSV file\n",
        "combined_df.to_csv(\"combined_dataset_china_air_pollution.csv\", index=False)\n",
        "\n",
        "print(\"All CSV files have been merged into 'combined_dataset_china_air_pollution.csv'.\")\n"
      ]
    },
    {
      "cell_type": "code",
      "source": [
        "import pandas as pd\n",
        "\n",
        "# Load the CSV file into a pandas DataFrame\n",
        "df = pd.read_csv(\"combined_dataset_china_air_pollution.csv\")\n",
        "df.head()"
      ],
      "metadata": {
        "colab": {
          "base_uri": "https://localhost:8080/",
          "height": 206
        },
        "id": "DYzpxgzzGW9h",
        "outputId": "02807977-deb9-4fb1-e4fc-aea24ef09d1d"
      },
      "execution_count": 6,
      "outputs": [
        {
          "output_type": "execute_result",
          "data": {
            "text/plain": [
              "   No  year  month  day  hour  PM2.5  PM10  SO2  NO2     CO    O3  TEMP  \\\n",
              "0   1  2013      3    1     0    3.0   6.0  3.0  8.0  300.0  44.0  -0.9   \n",
              "1   2  2013      3    1     1   12.0  12.0  3.0  7.0  300.0  47.0  -1.1   \n",
              "2   3  2013      3    1     2   14.0  14.0  NaN  7.0  200.0  22.0  -1.7   \n",
              "3   4  2013      3    1     3   12.0  12.0  3.0  5.0    NaN   NaN  -2.1   \n",
              "4   5  2013      3    1     4   12.0  12.0  3.0  NaN  200.0  11.0  -2.4   \n",
              "\n",
              "     PRES  DEWP  RAIN  wd  WSPM station  \n",
              "0  1025.8 -20.5   0.0  NW   9.3  Shunyi  \n",
              "1  1026.1 -21.3   0.0  NW   9.4  Shunyi  \n",
              "2  1026.2 -23.0   0.0  NW   8.6  Shunyi  \n",
              "3  1027.3 -23.3   0.0  NW   6.6  Shunyi  \n",
              "4  1027.7 -22.9   0.0  NW   4.5  Shunyi  "
            ],
            "text/html": [
              "\n",
              "  <div id=\"df-a35aebf4-27c9-4999-b1ff-ec569341a06b\" class=\"colab-df-container\">\n",
              "    <div>\n",
              "<style scoped>\n",
              "    .dataframe tbody tr th:only-of-type {\n",
              "        vertical-align: middle;\n",
              "    }\n",
              "\n",
              "    .dataframe tbody tr th {\n",
              "        vertical-align: top;\n",
              "    }\n",
              "\n",
              "    .dataframe thead th {\n",
              "        text-align: right;\n",
              "    }\n",
              "</style>\n",
              "<table border=\"1\" class=\"dataframe\">\n",
              "  <thead>\n",
              "    <tr style=\"text-align: right;\">\n",
              "      <th></th>\n",
              "      <th>No</th>\n",
              "      <th>year</th>\n",
              "      <th>month</th>\n",
              "      <th>day</th>\n",
              "      <th>hour</th>\n",
              "      <th>PM2.5</th>\n",
              "      <th>PM10</th>\n",
              "      <th>SO2</th>\n",
              "      <th>NO2</th>\n",
              "      <th>CO</th>\n",
              "      <th>O3</th>\n",
              "      <th>TEMP</th>\n",
              "      <th>PRES</th>\n",
              "      <th>DEWP</th>\n",
              "      <th>RAIN</th>\n",
              "      <th>wd</th>\n",
              "      <th>WSPM</th>\n",
              "      <th>station</th>\n",
              "    </tr>\n",
              "  </thead>\n",
              "  <tbody>\n",
              "    <tr>\n",
              "      <th>0</th>\n",
              "      <td>1</td>\n",
              "      <td>2013</td>\n",
              "      <td>3</td>\n",
              "      <td>1</td>\n",
              "      <td>0</td>\n",
              "      <td>3.0</td>\n",
              "      <td>6.0</td>\n",
              "      <td>3.0</td>\n",
              "      <td>8.0</td>\n",
              "      <td>300.0</td>\n",
              "      <td>44.0</td>\n",
              "      <td>-0.9</td>\n",
              "      <td>1025.8</td>\n",
              "      <td>-20.5</td>\n",
              "      <td>0.0</td>\n",
              "      <td>NW</td>\n",
              "      <td>9.3</td>\n",
              "      <td>Shunyi</td>\n",
              "    </tr>\n",
              "    <tr>\n",
              "      <th>1</th>\n",
              "      <td>2</td>\n",
              "      <td>2013</td>\n",
              "      <td>3</td>\n",
              "      <td>1</td>\n",
              "      <td>1</td>\n",
              "      <td>12.0</td>\n",
              "      <td>12.0</td>\n",
              "      <td>3.0</td>\n",
              "      <td>7.0</td>\n",
              "      <td>300.0</td>\n",
              "      <td>47.0</td>\n",
              "      <td>-1.1</td>\n",
              "      <td>1026.1</td>\n",
              "      <td>-21.3</td>\n",
              "      <td>0.0</td>\n",
              "      <td>NW</td>\n",
              "      <td>9.4</td>\n",
              "      <td>Shunyi</td>\n",
              "    </tr>\n",
              "    <tr>\n",
              "      <th>2</th>\n",
              "      <td>3</td>\n",
              "      <td>2013</td>\n",
              "      <td>3</td>\n",
              "      <td>1</td>\n",
              "      <td>2</td>\n",
              "      <td>14.0</td>\n",
              "      <td>14.0</td>\n",
              "      <td>NaN</td>\n",
              "      <td>7.0</td>\n",
              "      <td>200.0</td>\n",
              "      <td>22.0</td>\n",
              "      <td>-1.7</td>\n",
              "      <td>1026.2</td>\n",
              "      <td>-23.0</td>\n",
              "      <td>0.0</td>\n",
              "      <td>NW</td>\n",
              "      <td>8.6</td>\n",
              "      <td>Shunyi</td>\n",
              "    </tr>\n",
              "    <tr>\n",
              "      <th>3</th>\n",
              "      <td>4</td>\n",
              "      <td>2013</td>\n",
              "      <td>3</td>\n",
              "      <td>1</td>\n",
              "      <td>3</td>\n",
              "      <td>12.0</td>\n",
              "      <td>12.0</td>\n",
              "      <td>3.0</td>\n",
              "      <td>5.0</td>\n",
              "      <td>NaN</td>\n",
              "      <td>NaN</td>\n",
              "      <td>-2.1</td>\n",
              "      <td>1027.3</td>\n",
              "      <td>-23.3</td>\n",
              "      <td>0.0</td>\n",
              "      <td>NW</td>\n",
              "      <td>6.6</td>\n",
              "      <td>Shunyi</td>\n",
              "    </tr>\n",
              "    <tr>\n",
              "      <th>4</th>\n",
              "      <td>5</td>\n",
              "      <td>2013</td>\n",
              "      <td>3</td>\n",
              "      <td>1</td>\n",
              "      <td>4</td>\n",
              "      <td>12.0</td>\n",
              "      <td>12.0</td>\n",
              "      <td>3.0</td>\n",
              "      <td>NaN</td>\n",
              "      <td>200.0</td>\n",
              "      <td>11.0</td>\n",
              "      <td>-2.4</td>\n",
              "      <td>1027.7</td>\n",
              "      <td>-22.9</td>\n",
              "      <td>0.0</td>\n",
              "      <td>NW</td>\n",
              "      <td>4.5</td>\n",
              "      <td>Shunyi</td>\n",
              "    </tr>\n",
              "  </tbody>\n",
              "</table>\n",
              "</div>\n",
              "    <div class=\"colab-df-buttons\">\n",
              "\n",
              "  <div class=\"colab-df-container\">\n",
              "    <button class=\"colab-df-convert\" onclick=\"convertToInteractive('df-a35aebf4-27c9-4999-b1ff-ec569341a06b')\"\n",
              "            title=\"Convert this dataframe to an interactive table.\"\n",
              "            style=\"display:none;\">\n",
              "\n",
              "  <svg xmlns=\"http://www.w3.org/2000/svg\" height=\"24px\" viewBox=\"0 -960 960 960\">\n",
              "    <path d=\"M120-120v-720h720v720H120Zm60-500h600v-160H180v160Zm220 220h160v-160H400v160Zm0 220h160v-160H400v160ZM180-400h160v-160H180v160Zm440 0h160v-160H620v160ZM180-180h160v-160H180v160Zm440 0h160v-160H620v160Z\"/>\n",
              "  </svg>\n",
              "    </button>\n",
              "\n",
              "  <style>\n",
              "    .colab-df-container {\n",
              "      display:flex;\n",
              "      gap: 12px;\n",
              "    }\n",
              "\n",
              "    .colab-df-convert {\n",
              "      background-color: #E8F0FE;\n",
              "      border: none;\n",
              "      border-radius: 50%;\n",
              "      cursor: pointer;\n",
              "      display: none;\n",
              "      fill: #1967D2;\n",
              "      height: 32px;\n",
              "      padding: 0 0 0 0;\n",
              "      width: 32px;\n",
              "    }\n",
              "\n",
              "    .colab-df-convert:hover {\n",
              "      background-color: #E2EBFA;\n",
              "      box-shadow: 0px 1px 2px rgba(60, 64, 67, 0.3), 0px 1px 3px 1px rgba(60, 64, 67, 0.15);\n",
              "      fill: #174EA6;\n",
              "    }\n",
              "\n",
              "    .colab-df-buttons div {\n",
              "      margin-bottom: 4px;\n",
              "    }\n",
              "\n",
              "    [theme=dark] .colab-df-convert {\n",
              "      background-color: #3B4455;\n",
              "      fill: #D2E3FC;\n",
              "    }\n",
              "\n",
              "    [theme=dark] .colab-df-convert:hover {\n",
              "      background-color: #434B5C;\n",
              "      box-shadow: 0px 1px 3px 1px rgba(0, 0, 0, 0.15);\n",
              "      filter: drop-shadow(0px 1px 2px rgba(0, 0, 0, 0.3));\n",
              "      fill: #FFFFFF;\n",
              "    }\n",
              "  </style>\n",
              "\n",
              "    <script>\n",
              "      const buttonEl =\n",
              "        document.querySelector('#df-a35aebf4-27c9-4999-b1ff-ec569341a06b button.colab-df-convert');\n",
              "      buttonEl.style.display =\n",
              "        google.colab.kernel.accessAllowed ? 'block' : 'none';\n",
              "\n",
              "      async function convertToInteractive(key) {\n",
              "        const element = document.querySelector('#df-a35aebf4-27c9-4999-b1ff-ec569341a06b');\n",
              "        const dataTable =\n",
              "          await google.colab.kernel.invokeFunction('convertToInteractive',\n",
              "                                                    [key], {});\n",
              "        if (!dataTable) return;\n",
              "\n",
              "        const docLinkHtml = 'Like what you see? Visit the ' +\n",
              "          '<a target=\"_blank\" href=https://colab.research.google.com/notebooks/data_table.ipynb>data table notebook</a>'\n",
              "          + ' to learn more about interactive tables.';\n",
              "        element.innerHTML = '';\n",
              "        dataTable['output_type'] = 'display_data';\n",
              "        await google.colab.output.renderOutput(dataTable, element);\n",
              "        const docLink = document.createElement('div');\n",
              "        docLink.innerHTML = docLinkHtml;\n",
              "        element.appendChild(docLink);\n",
              "      }\n",
              "    </script>\n",
              "  </div>\n",
              "\n",
              "\n",
              "    <div id=\"df-6c926358-8eba-4cac-acd0-a368bf1e676a\">\n",
              "      <button class=\"colab-df-quickchart\" onclick=\"quickchart('df-6c926358-8eba-4cac-acd0-a368bf1e676a')\"\n",
              "                title=\"Suggest charts\"\n",
              "                style=\"display:none;\">\n",
              "\n",
              "<svg xmlns=\"http://www.w3.org/2000/svg\" height=\"24px\"viewBox=\"0 0 24 24\"\n",
              "     width=\"24px\">\n",
              "    <g>\n",
              "        <path d=\"M19 3H5c-1.1 0-2 .9-2 2v14c0 1.1.9 2 2 2h14c1.1 0 2-.9 2-2V5c0-1.1-.9-2-2-2zM9 17H7v-7h2v7zm4 0h-2V7h2v10zm4 0h-2v-4h2v4z\"/>\n",
              "    </g>\n",
              "</svg>\n",
              "      </button>\n",
              "\n",
              "<style>\n",
              "  .colab-df-quickchart {\n",
              "      --bg-color: #E8F0FE;\n",
              "      --fill-color: #1967D2;\n",
              "      --hover-bg-color: #E2EBFA;\n",
              "      --hover-fill-color: #174EA6;\n",
              "      --disabled-fill-color: #AAA;\n",
              "      --disabled-bg-color: #DDD;\n",
              "  }\n",
              "\n",
              "  [theme=dark] .colab-df-quickchart {\n",
              "      --bg-color: #3B4455;\n",
              "      --fill-color: #D2E3FC;\n",
              "      --hover-bg-color: #434B5C;\n",
              "      --hover-fill-color: #FFFFFF;\n",
              "      --disabled-bg-color: #3B4455;\n",
              "      --disabled-fill-color: #666;\n",
              "  }\n",
              "\n",
              "  .colab-df-quickchart {\n",
              "    background-color: var(--bg-color);\n",
              "    border: none;\n",
              "    border-radius: 50%;\n",
              "    cursor: pointer;\n",
              "    display: none;\n",
              "    fill: var(--fill-color);\n",
              "    height: 32px;\n",
              "    padding: 0;\n",
              "    width: 32px;\n",
              "  }\n",
              "\n",
              "  .colab-df-quickchart:hover {\n",
              "    background-color: var(--hover-bg-color);\n",
              "    box-shadow: 0 1px 2px rgba(60, 64, 67, 0.3), 0 1px 3px 1px rgba(60, 64, 67, 0.15);\n",
              "    fill: var(--button-hover-fill-color);\n",
              "  }\n",
              "\n",
              "  .colab-df-quickchart-complete:disabled,\n",
              "  .colab-df-quickchart-complete:disabled:hover {\n",
              "    background-color: var(--disabled-bg-color);\n",
              "    fill: var(--disabled-fill-color);\n",
              "    box-shadow: none;\n",
              "  }\n",
              "\n",
              "  .colab-df-spinner {\n",
              "    border: 2px solid var(--fill-color);\n",
              "    border-color: transparent;\n",
              "    border-bottom-color: var(--fill-color);\n",
              "    animation:\n",
              "      spin 1s steps(1) infinite;\n",
              "  }\n",
              "\n",
              "  @keyframes spin {\n",
              "    0% {\n",
              "      border-color: transparent;\n",
              "      border-bottom-color: var(--fill-color);\n",
              "      border-left-color: var(--fill-color);\n",
              "    }\n",
              "    20% {\n",
              "      border-color: transparent;\n",
              "      border-left-color: var(--fill-color);\n",
              "      border-top-color: var(--fill-color);\n",
              "    }\n",
              "    30% {\n",
              "      border-color: transparent;\n",
              "      border-left-color: var(--fill-color);\n",
              "      border-top-color: var(--fill-color);\n",
              "      border-right-color: var(--fill-color);\n",
              "    }\n",
              "    40% {\n",
              "      border-color: transparent;\n",
              "      border-right-color: var(--fill-color);\n",
              "      border-top-color: var(--fill-color);\n",
              "    }\n",
              "    60% {\n",
              "      border-color: transparent;\n",
              "      border-right-color: var(--fill-color);\n",
              "    }\n",
              "    80% {\n",
              "      border-color: transparent;\n",
              "      border-right-color: var(--fill-color);\n",
              "      border-bottom-color: var(--fill-color);\n",
              "    }\n",
              "    90% {\n",
              "      border-color: transparent;\n",
              "      border-bottom-color: var(--fill-color);\n",
              "    }\n",
              "  }\n",
              "</style>\n",
              "\n",
              "      <script>\n",
              "        async function quickchart(key) {\n",
              "          const quickchartButtonEl =\n",
              "            document.querySelector('#' + key + ' button');\n",
              "          quickchartButtonEl.disabled = true;  // To prevent multiple clicks.\n",
              "          quickchartButtonEl.classList.add('colab-df-spinner');\n",
              "          try {\n",
              "            const charts = await google.colab.kernel.invokeFunction(\n",
              "                'suggestCharts', [key], {});\n",
              "          } catch (error) {\n",
              "            console.error('Error during call to suggestCharts:', error);\n",
              "          }\n",
              "          quickchartButtonEl.classList.remove('colab-df-spinner');\n",
              "          quickchartButtonEl.classList.add('colab-df-quickchart-complete');\n",
              "        }\n",
              "        (() => {\n",
              "          let quickchartButtonEl =\n",
              "            document.querySelector('#df-6c926358-8eba-4cac-acd0-a368bf1e676a button');\n",
              "          quickchartButtonEl.style.display =\n",
              "            google.colab.kernel.accessAllowed ? 'block' : 'none';\n",
              "        })();\n",
              "      </script>\n",
              "    </div>\n",
              "\n",
              "    </div>\n",
              "  </div>\n"
            ],
            "application/vnd.google.colaboratory.intrinsic+json": {
              "type": "dataframe",
              "variable_name": "df"
            }
          },
          "metadata": {},
          "execution_count": 6
        }
      ]
    },
    {
      "cell_type": "code",
      "source": [
        "df.shape"
      ],
      "metadata": {
        "colab": {
          "base_uri": "https://localhost:8080/"
        },
        "id": "y4-tBxvGUPoH",
        "outputId": "efcb575b-c621-4c79-999b-effe7c5e770c"
      },
      "execution_count": 7,
      "outputs": [
        {
          "output_type": "execute_result",
          "data": {
            "text/plain": [
              "(701280, 18)"
            ]
          },
          "metadata": {},
          "execution_count": 7
        }
      ]
    },
    {
      "cell_type": "code",
      "source": [
        "#shows columns in list formatting\n",
        "df.columns"
      ],
      "metadata": {
        "colab": {
          "base_uri": "https://localhost:8080/"
        },
        "id": "vrD2HKU7Ub8H",
        "outputId": "fa864d7f-453e-4445-9d99-48ad75a5a364"
      },
      "execution_count": 8,
      "outputs": [
        {
          "output_type": "execute_result",
          "data": {
            "text/plain": [
              "Index(['No', 'year', 'month', 'day', 'hour', 'PM2.5', 'PM10', 'SO2', 'NO2',\n",
              "       'CO', 'O3', 'TEMP', 'PRES', 'DEWP', 'RAIN', 'wd', 'WSPM', 'station'],\n",
              "      dtype='object')"
            ]
          },
          "metadata": {},
          "execution_count": 8
        }
      ]
    },
    {
      "cell_type": "code",
      "source": [
        "df.info()"
      ],
      "metadata": {
        "colab": {
          "base_uri": "https://localhost:8080/"
        },
        "id": "AkpaFRueUjze",
        "outputId": "7099527a-b3f1-4963-e756-39356b0659a8"
      },
      "execution_count": 9,
      "outputs": [
        {
          "output_type": "stream",
          "name": "stdout",
          "text": [
            "<class 'pandas.core.frame.DataFrame'>\n",
            "RangeIndex: 701280 entries, 0 to 701279\n",
            "Data columns (total 18 columns):\n",
            " #   Column   Non-Null Count   Dtype  \n",
            "---  ------   --------------   -----  \n",
            " 0   No       701280 non-null  int64  \n",
            " 1   year     701280 non-null  int64  \n",
            " 2   month    701280 non-null  int64  \n",
            " 3   day      701280 non-null  int64  \n",
            " 4   hour     701280 non-null  int64  \n",
            " 5   PM2.5    686600 non-null  float64\n",
            " 6   PM10     690915 non-null  float64\n",
            " 7   SO2      686550 non-null  float64\n",
            " 8   NO2      681530 non-null  float64\n",
            " 9   CO       665535 non-null  float64\n",
            " 10  O3       679370 non-null  float64\n",
            " 11  TEMP     700560 non-null  float64\n",
            " 12  PRES     700575 non-null  float64\n",
            " 13  DEWP     700545 non-null  float64\n",
            " 14  RAIN     700570 non-null  float64\n",
            " 15  wd       697370 non-null  object \n",
            " 16  WSPM     700705 non-null  float64\n",
            " 17  station  701280 non-null  object \n",
            "dtypes: float64(11), int64(5), object(2)\n",
            "memory usage: 96.3+ MB\n"
          ]
        }
      ]
    },
    {
      "cell_type": "code",
      "source": [
        "import missingno as msno\n",
        "msno.matrix(df)\n",
        "plt.title('Missing Values Overview')\n",
        "plt.show()"
      ],
      "metadata": {
        "colab": {
          "base_uri": "https://localhost:8080/",
          "height": 599
        },
        "id": "dGm1jLvhCS83",
        "outputId": "fbe943ee-dcaf-4f96-ef99-25d584c041be"
      },
      "execution_count": 10,
      "outputs": [
        {
          "output_type": "display_data",
          "data": {
            "text/plain": [
              "<Figure size 2500x1000 with 2 Axes>"
            ],
            "image/png": "[encoded data removed]"
          },
          "metadata": {}
        }
      ]
    },
    {
      "cell_type": "code",
      "source": [
        "print(df['station'].value_counts())\n"
      ],
      "metadata": {
        "colab": {
          "base_uri": "https://localhost:8080/"
        },
        "id": "U9A8EYMZC5Ok",
        "outputId": "68546df6-7154-4eaf-e20c-6fe56b569008"
      },
      "execution_count": 11,
      "outputs": [
        {
          "output_type": "stream",
          "name": "stdout",
          "text": [
            "station\n",
            "Shunyi          175320\n",
            "Nongzhanguan    175320\n",
            "Guanyuan        175320\n",
            "Dingling        175320\n",
            "Name: count, dtype: int64\n"
          ]
        }
      ]
    },
    {
      "cell_type": "code",
      "source": [
        "def missing_values_table(df):\n",
        "    # Total missing values\n",
        "    mis_val = df.isnull().sum()\n",
        "\n",
        "    # Percentage of missing values\n",
        "    mis_val_percent = 100 * mis_val / len(df)\n",
        "\n",
        "    # Make a table with the results\n",
        "    mis_val_table = pd.concat([mis_val, mis_val_percent], axis=1)\n",
        "\n",
        "    # Rename the columns\n",
        "    mis_val_table.columns = ['Missing Values', '% of Total Values']\n",
        "\n",
        "    # Sort the table by percentage of missing descending\n",
        "    mis_val_table = mis_val_table.sort_values('% of Total Values', ascending=False)\n",
        "\n",
        "    # Return styled DataFrame\n",
        "    return mis_val_table.style.background_gradient(cmap='Greens')\n"
      ],
      "metadata": {
        "id": "wYyNiSWPExdT"
      },
      "execution_count": 17,
      "outputs": []
    },
    {
      "cell_type": "code",
      "source": [
        "missing_values_table(df)\n"
      ],
      "metadata": {
        "colab": {
          "base_uri": "https://localhost:8080/",
          "height": 614
        },
        "id": "v3eSa2o0Ezz2",
        "outputId": "3369e225-9c13-49cc-81ee-495e170e6445"
      },
      "execution_count": 18,
      "outputs": [
        {
          "output_type": "execute_result",
          "data": {
            "text/plain": [
              "<pandas.io.formats.style.Styler at 0x7c91d31f5590>"
            ],
            "text/html": [
              "<style type=\"text/css\">\n",
              "#T_502e4_row0_col0, #T_502e4_row0_col1 {\n",
              "  background-color: #00441b;\n",
              "  color: #f1f1f1;\n",
              "}\n",
              "#T_502e4_row1_col0, #T_502e4_row1_col1 {\n",
              "  background-color: #46ae60;\n",
              "  color: #f1f1f1;\n",
              "}\n",
              "#T_502e4_row2_col0, #T_502e4_row2_col1 {\n",
              "  background-color: #5eb96b;\n",
              "  color: #f1f1f1;\n",
              "}\n",
              "#T_502e4_row3_col0, #T_502e4_row3_col1 {\n",
              "  background-color: #94d390;\n",
              "  color: #000000;\n",
              "}\n",
              "#T_502e4_row4_col0, #T_502e4_row4_col1 {\n",
              "  background-color: #bbe4b4;\n",
              "  color: #000000;\n",
              "}\n",
              "#T_502e4_row5_col0, #T_502e4_row5_col1 {\n",
              "  background-color: #e7f6e3;\n",
              "  color: #000000;\n",
              "}\n",
              "#T_502e4_row6_col0, #T_502e4_row6_col1, #T_502e4_row7_col0, #T_502e4_row7_col1, #T_502e4_row8_col0, #T_502e4_row8_col1, #T_502e4_row9_col0, #T_502e4_row9_col1 {\n",
              "  background-color: #f4fbf2;\n",
              "  color: #000000;\n",
              "}\n",
              "#T_502e4_row10_col0, #T_502e4_row10_col1 {\n",
              "  background-color: #f5fbf2;\n",
              "  color: #000000;\n",
              "}\n",
              "#T_502e4_row11_col0, #T_502e4_row11_col1, #T_502e4_row12_col0, #T_502e4_row12_col1, #T_502e4_row13_col0, #T_502e4_row13_col1, #T_502e4_row14_col0, #T_502e4_row14_col1, #T_502e4_row15_col0, #T_502e4_row15_col1, #T_502e4_row16_col0, #T_502e4_row16_col1, #T_502e4_row17_col0, #T_502e4_row17_col1 {\n",
              "  background-color: #f7fcf5;\n",
              "  color: #000000;\n",
              "}\n",
              "</style>\n",
              "<table id=\"T_502e4\" class=\"dataframe\">\n",
              "  <thead>\n",
              "    <tr>\n",
              "      <th class=\"blank level0\" >&nbsp;</th>\n",
              "      <th id=\"T_502e4_level0_col0\" class=\"col_heading level0 col0\" >Missing Values</th>\n",
              "      <th id=\"T_502e4_level0_col1\" class=\"col_heading level0 col1\" >% of Total Values</th>\n",
              "    </tr>\n",
              "  </thead>\n",
              "  <tbody>\n",
              "    <tr>\n",
              "      <th id=\"T_502e4_level0_row0\" class=\"row_heading level0 row0\" >CO</th>\n",
              "      <td id=\"T_502e4_row0_col0\" class=\"data row0 col0\" >35745</td>\n",
              "      <td id=\"T_502e4_row0_col1\" class=\"data row0 col1\" >5.097108</td>\n",
              "    </tr>\n",
              "    <tr>\n",
              "      <th id=\"T_502e4_level0_row1\" class=\"row_heading level0 row1\" >O3</th>\n",
              "      <td id=\"T_502e4_row1_col0\" class=\"data row1 col0\" >21910</td>\n",
              "      <td id=\"T_502e4_row1_col1\" class=\"data row1 col1\" >3.124287</td>\n",
              "    </tr>\n",
              "    <tr>\n",
              "      <th id=\"T_502e4_level0_row2\" class=\"row_heading level0 row2\" >NO2</th>\n",
              "      <td id=\"T_502e4_row2_col0\" class=\"data row2 col0\" >19750</td>\n",
              "      <td id=\"T_502e4_row2_col1\" class=\"data row2 col1\" >2.816279</td>\n",
              "    </tr>\n",
              "    <tr>\n",
              "      <th id=\"T_502e4_level0_row3\" class=\"row_heading level0 row3\" >SO2</th>\n",
              "      <td id=\"T_502e4_row3_col0\" class=\"data row3 col0\" >14730</td>\n",
              "      <td id=\"T_502e4_row3_col1\" class=\"data row3 col1\" >2.100445</td>\n",
              "    </tr>\n",
              "    <tr>\n",
              "      <th id=\"T_502e4_level0_row4\" class=\"row_heading level0 row4\" >PM10</th>\n",
              "      <td id=\"T_502e4_row4_col0\" class=\"data row4 col0\" >10365</td>\n",
              "      <td id=\"T_502e4_row4_col1\" class=\"data row4 col1\" >1.478012</td>\n",
              "    </tr>\n",
              "    <tr>\n",
              "      <th id=\"T_502e4_level0_row5\" class=\"row_heading level0 row5\" >wd</th>\n",
              "      <td id=\"T_502e4_row5_col0\" class=\"data row5 col0\" >3910</td>\n",
              "      <td id=\"T_502e4_row5_col1\" class=\"data row5 col1\" >0.557552</td>\n",
              "    </tr>\n",
              "    <tr>\n",
              "      <th id=\"T_502e4_level0_row6\" class=\"row_heading level0 row6\" >DEWP</th>\n",
              "      <td id=\"T_502e4_row6_col0\" class=\"data row6 col0\" >735</td>\n",
              "      <td id=\"T_502e4_row6_col1\" class=\"data row6 col1\" >0.104808</td>\n",
              "    </tr>\n",
              "    <tr>\n",
              "      <th id=\"T_502e4_level0_row7\" class=\"row_heading level0 row7\" >TEMP</th>\n",
              "      <td id=\"T_502e4_row7_col0\" class=\"data row7 col0\" >720</td>\n",
              "      <td id=\"T_502e4_row7_col1\" class=\"data row7 col1\" >0.102669</td>\n",
              "    </tr>\n",
              "    <tr>\n",
              "      <th id=\"T_502e4_level0_row8\" class=\"row_heading level0 row8\" >RAIN</th>\n",
              "      <td id=\"T_502e4_row8_col0\" class=\"data row8 col0\" >710</td>\n",
              "      <td id=\"T_502e4_row8_col1\" class=\"data row8 col1\" >0.101243</td>\n",
              "    </tr>\n",
              "    <tr>\n",
              "      <th id=\"T_502e4_level0_row9\" class=\"row_heading level0 row9\" >PRES</th>\n",
              "      <td id=\"T_502e4_row9_col0\" class=\"data row9 col0\" >705</td>\n",
              "      <td id=\"T_502e4_row9_col1\" class=\"data row9 col1\" >0.100530</td>\n",
              "    </tr>\n",
              "    <tr>\n",
              "      <th id=\"T_502e4_level0_row10\" class=\"row_heading level0 row10\" >WSPM</th>\n",
              "      <td id=\"T_502e4_row10_col0\" class=\"data row10 col0\" >575</td>\n",
              "      <td id=\"T_502e4_row10_col1\" class=\"data row10 col1\" >0.081993</td>\n",
              "    </tr>\n",
              "    <tr>\n",
              "      <th id=\"T_502e4_level0_row11\" class=\"row_heading level0 row11\" >No</th>\n",
              "      <td id=\"T_502e4_row11_col0\" class=\"data row11 col0\" >0</td>\n",
              "      <td id=\"T_502e4_row11_col1\" class=\"data row11 col1\" >0.000000</td>\n",
              "    </tr>\n",
              "    <tr>\n",
              "      <th id=\"T_502e4_level0_row12\" class=\"row_heading level0 row12\" >year</th>\n",
              "      <td id=\"T_502e4_row12_col0\" class=\"data row12 col0\" >0</td>\n",
              "      <td id=\"T_502e4_row12_col1\" class=\"data row12 col1\" >0.000000</td>\n",
              "    </tr>\n",
              "    <tr>\n",
              "      <th id=\"T_502e4_level0_row13\" class=\"row_heading level0 row13\" >PM2.5</th>\n",
              "      <td id=\"T_502e4_row13_col0\" class=\"data row13 col0\" >0</td>\n",
              "      <td id=\"T_502e4_row13_col1\" class=\"data row13 col1\" >0.000000</td>\n",
              "    </tr>\n",
              "    <tr>\n",
              "      <th id=\"T_502e4_level0_row14\" class=\"row_heading level0 row14\" >month</th>\n",
              "      <td id=\"T_502e4_row14_col0\" class=\"data row14 col0\" >0</td>\n",
              "      <td id=\"T_502e4_row14_col1\" class=\"data row14 col1\" >0.000000</td>\n",
              "    </tr>\n",
              "    <tr>\n",
              "      <th id=\"T_502e4_level0_row15\" class=\"row_heading level0 row15\" >day</th>\n",
              "      <td id=\"T_502e4_row15_col0\" class=\"data row15 col0\" >0</td>\n",
              "      <td id=\"T_502e4_row15_col1\" class=\"data row15 col1\" >0.000000</td>\n",
              "    </tr>\n",
              "    <tr>\n",
              "      <th id=\"T_502e4_level0_row16\" class=\"row_heading level0 row16\" >hour</th>\n",
              "      <td id=\"T_502e4_row16_col0\" class=\"data row16 col0\" >0</td>\n",
              "      <td id=\"T_502e4_row16_col1\" class=\"data row16 col1\" >0.000000</td>\n",
              "    </tr>\n",
              "    <tr>\n",
              "      <th id=\"T_502e4_level0_row17\" class=\"row_heading level0 row17\" >station</th>\n",
              "      <td id=\"T_502e4_row17_col0\" class=\"data row17 col0\" >0</td>\n",
              "      <td id=\"T_502e4_row17_col1\" class=\"data row17 col1\" >0.000000</td>\n",
              "    </tr>\n",
              "  </tbody>\n",
              "</table>\n"
            ]
          },
          "metadata": {},
          "execution_count": 18
        }
      ]
    },
    {
      "cell_type": "code",
      "source": [
        "# Fill missing PM2.5 with median\n",
        "df['PM2.5'].fillna(df['PM2.5'].median(), inplace=True)"
      ],
      "metadata": {
        "id": "jIZaFTB1DEbx"
      },
      "execution_count": 19,
      "outputs": []
    },
    {
      "cell_type": "code",
      "source": [
        "df['datetime'] = pd.to_datetime(df[['year', 'month', 'day', 'hour']])\n",
        "df.set_index('datetime', inplace=True)\n"
      ],
      "metadata": {
        "id": "KOtWWtkrDJQn"
      },
      "execution_count": 22,
      "outputs": []
    },
    {
      "cell_type": "code",
      "source": [
        "print(df.index)"
      ],
      "metadata": {
        "colab": {
          "base_uri": "https://localhost:8080/"
        },
        "id": "WeXfbfyEFDUl",
        "outputId": "65c74d4c-641d-429c-ac09-499af425ada4"
      },
      "execution_count": 23,
      "outputs": [
        {
          "output_type": "stream",
          "name": "stdout",
          "text": [
            "DatetimeIndex(['2013-03-01 00:00:00', '2013-03-01 01:00:00',\n",
            "               '2013-03-01 02:00:00', '2013-03-01 03:00:00',\n",
            "               '2013-03-01 04:00:00', '2013-03-01 05:00:00',\n",
            "               '2013-03-01 06:00:00', '2013-03-01 07:00:00',\n",
            "               '2013-03-01 08:00:00', '2013-03-01 09:00:00',\n",
            "               ...\n",
            "               '2017-02-28 14:00:00', '2017-02-28 15:00:00',\n",
            "               '2017-02-28 16:00:00', '2017-02-28 17:00:00',\n",
            "               '2017-02-28 18:00:00', '2017-02-28 19:00:00',\n",
            "               '2017-02-28 20:00:00', '2017-02-28 21:00:00',\n",
            "               '2017-02-28 22:00:00', '2017-02-28 23:00:00'],\n",
            "              dtype='datetime64[ns]', name='datetime', length=701280, freq=None)\n"
          ]
        }
      ]
    },
    {
      "cell_type": "code",
      "source": [
        "df['wd'].fillna(df['wd'].mode()[0], inplace=True)\n"
      ],
      "metadata": {
        "id": "oxjkVxWnFHpE"
      },
      "execution_count": 25,
      "outputs": []
    },
    {
      "cell_type": "code",
      "source": [
        "numerical_cols = ['CO', 'O3', 'NO2', 'SO2', 'PM10', 'DEWP', 'TEMP', 'RAIN', 'PRES', 'WSPM']\n",
        "\n",
        "# Fill missing values with median per station\n",
        "for col in numerical_cols:\n",
        "    df[col] = df.groupby('station')[col].transform(lambda x: x.fillna(x.median()))\n"
      ],
      "metadata": {
        "id": "b0Wz7WZdOVnF"
      },
      "execution_count": 26,
      "outputs": []
    },
    {
      "cell_type": "code",
      "source": [
        "df[numerical_cols] = df[numerical_cols].fillna(df[numerical_cols].median())\n"
      ],
      "metadata": {
        "id": "V-aI5TanOeGl"
      },
      "execution_count": 27,
      "outputs": []
    },
    {
      "cell_type": "code",
      "source": [
        "missing_values_table(df)\n"
      ],
      "metadata": {
        "colab": {
          "base_uri": "https://localhost:8080/",
          "height": 614
        },
        "id": "rObXRbD7Ofl7",
        "outputId": "7b938e75-df21-43a6-acbb-34c73cb611b5"
      },
      "execution_count": 28,
      "outputs": [
        {
          "output_type": "execute_result",
          "data": {
            "text/plain": [
              "<pandas.io.formats.style.Styler at 0x7c91d315fd10>"
            ],
            "text/html": [
              "<style type=\"text/css\">\n",
              "#T_3bebe_row0_col0, #T_3bebe_row0_col1, #T_3bebe_row1_col0, #T_3bebe_row1_col1, #T_3bebe_row2_col0, #T_3bebe_row2_col1, #T_3bebe_row3_col0, #T_3bebe_row3_col1, #T_3bebe_row4_col0, #T_3bebe_row4_col1, #T_3bebe_row5_col0, #T_3bebe_row5_col1, #T_3bebe_row6_col0, #T_3bebe_row6_col1, #T_3bebe_row7_col0, #T_3bebe_row7_col1, #T_3bebe_row8_col0, #T_3bebe_row8_col1, #T_3bebe_row9_col0, #T_3bebe_row9_col1, #T_3bebe_row10_col0, #T_3bebe_row10_col1, #T_3bebe_row11_col0, #T_3bebe_row11_col1, #T_3bebe_row12_col0, #T_3bebe_row12_col1, #T_3bebe_row13_col0, #T_3bebe_row13_col1, #T_3bebe_row14_col0, #T_3bebe_row14_col1, #T_3bebe_row15_col0, #T_3bebe_row15_col1, #T_3bebe_row16_col0, #T_3bebe_row16_col1, #T_3bebe_row17_col0, #T_3bebe_row17_col1 {\n",
              "  background-color: #f7fcf5;\n",
              "  color: #000000;\n",
              "}\n",
              "</style>\n",
              "<table id=\"T_3bebe\" class=\"dataframe\">\n",
              "  <thead>\n",
              "    <tr>\n",
              "      <th class=\"blank level0\" >&nbsp;</th>\n",
              "      <th id=\"T_3bebe_level0_col0\" class=\"col_heading level0 col0\" >Missing Values</th>\n",
              "      <th id=\"T_3bebe_level0_col1\" class=\"col_heading level0 col1\" >% of Total Values</th>\n",
              "    </tr>\n",
              "  </thead>\n",
              "  <tbody>\n",
              "    <tr>\n",
              "      <th id=\"T_3bebe_level0_row0\" class=\"row_heading level0 row0\" >No</th>\n",
              "      <td id=\"T_3bebe_row0_col0\" class=\"data row0 col0\" >0</td>\n",
              "      <td id=\"T_3bebe_row0_col1\" class=\"data row0 col1\" >0.000000</td>\n",
              "    </tr>\n",
              "    <tr>\n",
              "      <th id=\"T_3bebe_level0_row1\" class=\"row_heading level0 row1\" >year</th>\n",
              "      <td id=\"T_3bebe_row1_col0\" class=\"data row1 col0\" >0</td>\n",
              "      <td id=\"T_3bebe_row1_col1\" class=\"data row1 col1\" >0.000000</td>\n",
              "    </tr>\n",
              "    <tr>\n",
              "      <th id=\"T_3bebe_level0_row2\" class=\"row_heading level0 row2\" >month</th>\n",
              "      <td id=\"T_3bebe_row2_col0\" class=\"data row2 col0\" >0</td>\n",
              "      <td id=\"T_3bebe_row2_col1\" class=\"data row2 col1\" >0.000000</td>\n",
              "    </tr>\n",
              "    <tr>\n",
              "      <th id=\"T_3bebe_level0_row3\" class=\"row_heading level0 row3\" >day</th>\n",
              "      <td id=\"T_3bebe_row3_col0\" class=\"data row3 col0\" >0</td>\n",
              "      <td id=\"T_3bebe_row3_col1\" class=\"data row3 col1\" >0.000000</td>\n",
              "    </tr>\n",
              "    <tr>\n",
              "      <th id=\"T_3bebe_level0_row4\" class=\"row_heading level0 row4\" >hour</th>\n",
              "      <td id=\"T_3bebe_row4_col0\" class=\"data row4 col0\" >0</td>\n",
              "      <td id=\"T_3bebe_row4_col1\" class=\"data row4 col1\" >0.000000</td>\n",
              "    </tr>\n",
              "    <tr>\n",
              "      <th id=\"T_3bebe_level0_row5\" class=\"row_heading level0 row5\" >PM2.5</th>\n",
              "      <td id=\"T_3bebe_row5_col0\" class=\"data row5 col0\" >0</td>\n",
              "      <td id=\"T_3bebe_row5_col1\" class=\"data row5 col1\" >0.000000</td>\n",
              "    </tr>\n",
              "    <tr>\n",
              "      <th id=\"T_3bebe_level0_row6\" class=\"row_heading level0 row6\" >PM10</th>\n",
              "      <td id=\"T_3bebe_row6_col0\" class=\"data row6 col0\" >0</td>\n",
              "      <td id=\"T_3bebe_row6_col1\" class=\"data row6 col1\" >0.000000</td>\n",
              "    </tr>\n",
              "    <tr>\n",
              "      <th id=\"T_3bebe_level0_row7\" class=\"row_heading level0 row7\" >SO2</th>\n",
              "      <td id=\"T_3bebe_row7_col0\" class=\"data row7 col0\" >0</td>\n",
              "      <td id=\"T_3bebe_row7_col1\" class=\"data row7 col1\" >0.000000</td>\n",
              "    </tr>\n",
              "    <tr>\n",
              "      <th id=\"T_3bebe_level0_row8\" class=\"row_heading level0 row8\" >NO2</th>\n",
              "      <td id=\"T_3bebe_row8_col0\" class=\"data row8 col0\" >0</td>\n",
              "      <td id=\"T_3bebe_row8_col1\" class=\"data row8 col1\" >0.000000</td>\n",
              "    </tr>\n",
              "    <tr>\n",
              "      <th id=\"T_3bebe_level0_row9\" class=\"row_heading level0 row9\" >CO</th>\n",
              "      <td id=\"T_3bebe_row9_col0\" class=\"data row9 col0\" >0</td>\n",
              "      <td id=\"T_3bebe_row9_col1\" class=\"data row9 col1\" >0.000000</td>\n",
              "    </tr>\n",
              "    <tr>\n",
              "      <th id=\"T_3bebe_level0_row10\" class=\"row_heading level0 row10\" >O3</th>\n",
              "      <td id=\"T_3bebe_row10_col0\" class=\"data row10 col0\" >0</td>\n",
              "      <td id=\"T_3bebe_row10_col1\" class=\"data row10 col1\" >0.000000</td>\n",
              "    </tr>\n",
              "    <tr>\n",
              "      <th id=\"T_3bebe_level0_row11\" class=\"row_heading level0 row11\" >TEMP</th>\n",
              "      <td id=\"T_3bebe_row11_col0\" class=\"data row11 col0\" >0</td>\n",
              "      <td id=\"T_3bebe_row11_col1\" class=\"data row11 col1\" >0.000000</td>\n",
              "    </tr>\n",
              "    <tr>\n",
              "      <th id=\"T_3bebe_level0_row12\" class=\"row_heading level0 row12\" >PRES</th>\n",
              "      <td id=\"T_3bebe_row12_col0\" class=\"data row12 col0\" >0</td>\n",
              "      <td id=\"T_3bebe_row12_col1\" class=\"data row12 col1\" >0.000000</td>\n",
              "    </tr>\n",
              "    <tr>\n",
              "      <th id=\"T_3bebe_level0_row13\" class=\"row_heading level0 row13\" >DEWP</th>\n",
              "      <td id=\"T_3bebe_row13_col0\" class=\"data row13 col0\" >0</td>\n",
              "      <td id=\"T_3bebe_row13_col1\" class=\"data row13 col1\" >0.000000</td>\n",
              "    </tr>\n",
              "    <tr>\n",
              "      <th id=\"T_3bebe_level0_row14\" class=\"row_heading level0 row14\" >RAIN</th>\n",
              "      <td id=\"T_3bebe_row14_col0\" class=\"data row14 col0\" >0</td>\n",
              "      <td id=\"T_3bebe_row14_col1\" class=\"data row14 col1\" >0.000000</td>\n",
              "    </tr>\n",
              "    <tr>\n",
              "      <th id=\"T_3bebe_level0_row15\" class=\"row_heading level0 row15\" >wd</th>\n",
              "      <td id=\"T_3bebe_row15_col0\" class=\"data row15 col0\" >0</td>\n",
              "      <td id=\"T_3bebe_row15_col1\" class=\"data row15 col1\" >0.000000</td>\n",
              "    </tr>\n",
              "    <tr>\n",
              "      <th id=\"T_3bebe_level0_row16\" class=\"row_heading level0 row16\" >WSPM</th>\n",
              "      <td id=\"T_3bebe_row16_col0\" class=\"data row16 col0\" >0</td>\n",
              "      <td id=\"T_3bebe_row16_col1\" class=\"data row16 col1\" >0.000000</td>\n",
              "    </tr>\n",
              "    <tr>\n",
              "      <th id=\"T_3bebe_level0_row17\" class=\"row_heading level0 row17\" >station</th>\n",
              "      <td id=\"T_3bebe_row17_col0\" class=\"data row17 col0\" >0</td>\n",
              "      <td id=\"T_3bebe_row17_col1\" class=\"data row17 col1\" >0.000000</td>\n",
              "    </tr>\n",
              "  </tbody>\n",
              "</table>\n"
            ]
          },
          "metadata": {},
          "execution_count": 28
        }
      ]
    }
  ]
}